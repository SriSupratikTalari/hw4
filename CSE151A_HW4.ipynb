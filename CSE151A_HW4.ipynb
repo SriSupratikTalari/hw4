{
  "cells": [
    {
      "cell_type": "markdown",
      "id": "0ceeeb46",
      "metadata": {
        "id": "0ceeeb46"
      },
      "source": [
        "# Homework 4\n",
        "\n",
        "For this assignment, you will be developing an artificial neural network to classify data given in the __[Dry Beans Data Set](https://archive.ics.uci.edu/ml/datasets/Dry+Bean+Dataset#)__. This data set was obtained as a part of a research study by Selcuk University, Turkey, in which a computer vision system was developed to distinguish seven different registered varieties of dry beans with similar features. More details on the study can be found in the following __[research paper](https://www.sciencedirect.com/science/article/pii/S0168169919311573)__. <br>\n",
        "### **Make sure to use the lecture notebook on an introduction to keras and cross validation located [here](https://colab.research.google.com/drive/1ksEGL7SJ_wutCIyPYx7Loe5EPdOij6dJ?usp=sharing) and [here](https://colab.research.google.com/drive/1C9Mwf1J2ril1Q4l6n2BjQMb8YaFySG5_?usp=sharing)**.\n",
        "\n",
        "## About the Data Set\n",
        "Seven different types of dry beans were used in a study in Selcuk University, Turkey, taking into account the features such as form, shape, type, and structure by the market situation. A computer vision system was developed to distinguish seven different registered varieties of dry beans with similar features in order to obtain uniform seed classification. For the **classification** model, images of 13611 grains of 7 different registered dry beans were taken with a high-resolution camera. Bean images obtained by computer vision system were subjected to segmentation and feature extraction stages, and a total of 16 features - 12 dimensions and 4 shape forms - were obtained from the grains.\n",
        "\n",
        "Number of Instances (records in the data set): __13611__\n",
        "\n",
        "Number of Attributes (fields within each record, including the class): __17__\n",
        "\n",
        "### Data Set Attribute Information:\n",
        "\n",
        "1. __Area (A)__ : The area of a bean zone and the number of pixels within its boundaries.\n",
        "2. __Perimeter (P)__ : Bean circumference is defined as the length of its border.\n",
        "3. __Major axis length (L)__ : The distance between the ends of the longest line that can be drawn from a bean.\n",
        "4. __Minor axis length (l)__ : The longest line that can be drawn from the bean while standing perpendicular to the main axis.\n",
        "5. __Aspect ratio (K)__ : Defines the relationship between L and l.\n",
        "6. __Eccentricity (Ec)__ : Eccentricity of the ellipse having the same moments as the region.\n",
        "7. __Convex area (C)__ : Number of pixels in the smallest convex polygon that can contain the area of a bean seed.\n",
        "8. __Equivalent diameter (Ed)__ : The diameter of a circle having the same area as a bean seed area.\n",
        "9. __Extent (Ex)__ : The ratio of the pixels in the bounding box to the bean area.\n",
        "10. __Solidity (S)__ : Also known as convexity. The ratio of the pixels in the convex shell to those found in beans.\n",
        "11. __Roundness (R)__ : Calculated with the following formula: (4piA)/(P^2)\n",
        "12. __Compactness (CO)__ : Measures the roundness of an object: Ed/L\n",
        "13. __ShapeFactor1 (SF1)__\n",
        "14. __ShapeFactor2 (SF2)__\n",
        "15. __ShapeFactor3 (SF3)__\n",
        "16. __ShapeFactor4 (SF4)__\n",
        "\n",
        "17. __Classes : *Seker, Barbunya, Bombay, Cali, Dermosan, Horoz, Sira*__"
      ]
    },
    {
      "cell_type": "markdown",
      "id": "61beac74",
      "metadata": {
        "id": "61beac74"
      },
      "source": [
        "### Libraries that can be used :\n",
        "- NumPy, SciPy, Pandas, Sci-Kit Learn, TensorFlow, Keras. You may also use PyTorch (though support may be limited)\n",
        "- Any other library used during the lectures and discussion sessions.\n",
        "\n",
        "### Other Notes\n",
        "- Don't worry about not being able to achieve high accuracy, it is neither the goal nor the grading standard of this assignment.\n",
        "- Discussion and Lecture materials should be helpful for doing the assignments.\n",
        "- The homework submission should be a .ipynb file.\n"
      ]
    },
    {
      "cell_type": "code",
      "execution_count": 14,
      "id": "LcVrrFbn1wzE",
      "metadata": {
        "colab": {
          "base_uri": "https://localhost:8080/"
        },
        "id": "LcVrrFbn1wzE",
        "outputId": "c8f78356-2f4b-4cee-9b32-421d33cc289d"
      },
      "outputs": [
        {
          "output_type": "stream",
          "name": "stdout",
          "text": [
            "fatal: destination path 'hw4' already exists and is not an empty directory.\n"
          ]
        }
      ],
      "source": [
        "!git clone https://github.com/ucsd-cse151a-ss25/hw4.git"
      ]
    },
    {
      "cell_type": "code",
      "execution_count": 15,
      "id": "CYIrwErfvzrM",
      "metadata": {
        "id": "CYIrwErfvzrM"
      },
      "outputs": [],
      "source": [
        "import pandas as pd\n",
        "from sklearn.model_selection import train_test_split\n",
        "from sklearn.preprocessing import OneHotEncoder, MinMaxScaler"
      ]
    },
    {
      "cell_type": "markdown",
      "id": "0264c751",
      "metadata": {
        "id": "0264c751"
      },
      "source": [
        "\n",
        "## Exercise 1 : Building a Feed-Forward Neural Network(50 points)\n",
        "\n",
        "### Exercise 1.1 : Data Preprocessing (10 points)\n",
        "\n",
        "- As the classes are categorical, use one-hot encoding to represent the set of classes. You will find this useful when developing the output layer of the neural network.\n",
        "- Split the data into training and testing set by __90:10__ and use the training set for training the model and the test set to evaluate the model performance. Please set verbose=0 to suppress output during training.\n",
        "- Normalize each field of the input data using the min-max normalization technique.\n",
        "\n",
        "__Notes:__\n",
        "\n",
        "- Splitting of the dataset should be done __before__ the normalization step and __after__ the one-hot encoding."
      ]
    },
    {
      "cell_type": "code",
      "execution_count": 16,
      "id": "pGXN1EuWwYOR",
      "metadata": {
        "id": "pGXN1EuWwYOR"
      },
      "outputs": [],
      "source": [
        "df = pd.read_csv(\"hw4/Dry_Beans_Dataset.csv\")"
      ]
    },
    {
      "cell_type": "code",
      "execution_count": 17,
      "id": "MdCeJO3awZAm",
      "metadata": {
        "colab": {
          "base_uri": "https://localhost:8080/",
          "height": 424
        },
        "id": "MdCeJO3awZAm",
        "outputId": "9a121078-93c4-4de3-8c10-65248230e7d4"
      },
      "outputs": [
        {
          "output_type": "execute_result",
          "data": {
            "text/plain": [
              "         Area  Perimeter  MajorAxisLength  MinorAxisLength  AspectRation  \\\n",
              "0       44830    814.955       320.731947       178.405838      1.797766   \n",
              "1       33476    691.826       258.837971       165.220760      1.566619   \n",
              "2       27057    606.138       227.460904       151.860320      1.497830   \n",
              "3       49483    844.283       326.602913       194.689529      1.677558   \n",
              "4       22461    544.584       192.801303       148.541136      1.297966   \n",
              "...       ...        ...              ...              ...           ...   \n",
              "13606   39956    745.166       273.867402       186.564001      1.467954   \n",
              "13607  171914   1595.676       598.541646       368.358372      1.624889   \n",
              "13608   48266    817.340       304.682706       202.282198      1.506226   \n",
              "13609   43279    843.066       336.280446       164.667135      2.042183   \n",
              "13610   46856    809.173       302.595376       197.920303      1.528875   \n",
              "\n",
              "       Eccentricity  ConvexArea  EquivDiameter    Extent  Solidity  roundness  \\\n",
              "0          0.831018       45297     238.912806  0.658877  0.989690   0.848226   \n",
              "1          0.769773       33907     206.453305  0.721155  0.987289   0.878921   \n",
              "2          0.744491       27358     185.607226  0.801831  0.988998   0.925436   \n",
              "3          0.802907       50289     251.005403  0.680179  0.983973   0.872348   \n",
              "4          0.637517       22699     169.110122  0.774731  0.989515   0.951720   \n",
              "...             ...         ...            ...       ...       ...        ...   \n",
              "13606      0.732079       40504     225.551678  0.796000  0.986470   0.904244   \n",
              "13607      0.788194      174673     467.854361  0.815980  0.984205   0.848461   \n",
              "13608      0.747812       48780     247.899536  0.807232  0.989463   0.907916   \n",
              "13609      0.871907       43813     234.743550  0.614566  0.987812   0.765181   \n",
              "13610      0.756429       47372     244.251739  0.726900  0.989107   0.899275   \n",
              "\n",
              "       Compactness  ShapeFactor1  ShapeFactor2  ShapeFactor3  ShapeFactor4  \\\n",
              "0         0.744899      0.007154      0.001359      0.554874      0.997534   \n",
              "1         0.797616      0.007732      0.001930      0.636191      0.996669   \n",
              "2         0.815996      0.008407      0.002299      0.665850      0.997330   \n",
              "3         0.768534      0.006600      0.001420      0.590644      0.990840   \n",
              "4         0.877121      0.008584      0.003134      0.769342      0.998579   \n",
              "...            ...           ...           ...           ...           ...   \n",
              "13606     0.823580      0.006854      0.001945      0.678284      0.995690   \n",
              "13607     0.781657      0.003482      0.000802      0.610988      0.992788   \n",
              "13608     0.813632      0.006313      0.001706      0.661997      0.997117   \n",
              "13609     0.698059      0.007770      0.001138      0.487286      0.995128   \n",
              "13610     0.807189      0.006458      0.001691      0.651555      0.996145   \n",
              "\n",
              "          Class  \n",
              "0          SIRA  \n",
              "1      DERMASON  \n",
              "2      DERMASON  \n",
              "3          SIRA  \n",
              "4      DERMASON  \n",
              "...         ...  \n",
              "13606  DERMASON  \n",
              "13607    BOMBAY  \n",
              "13608      SIRA  \n",
              "13609     HOROZ  \n",
              "13610      SIRA  \n",
              "\n",
              "[13611 rows x 17 columns]"
            ],
            "text/html": [
              "\n",
              "  <div id=\"df-af542186-435e-47ae-823a-acc8338b78f4\" class=\"colab-df-container\">\n",
              "    <div>\n",
              "<style scoped>\n",
              "    .dataframe tbody tr th:only-of-type {\n",
              "        vertical-align: middle;\n",
              "    }\n",
              "\n",
              "    .dataframe tbody tr th {\n",
              "        vertical-align: top;\n",
              "    }\n",
              "\n",
              "    .dataframe thead th {\n",
              "        text-align: right;\n",
              "    }\n",
              "</style>\n",
              "<table border=\"1\" class=\"dataframe\">\n",
              "  <thead>\n",
              "    <tr style=\"text-align: right;\">\n",
              "      <th></th>\n",
              "      <th>Area</th>\n",
              "      <th>Perimeter</th>\n",
              "      <th>MajorAxisLength</th>\n",
              "      <th>MinorAxisLength</th>\n",
              "      <th>AspectRation</th>\n",
              "      <th>Eccentricity</th>\n",
              "      <th>ConvexArea</th>\n",
              "      <th>EquivDiameter</th>\n",
              "      <th>Extent</th>\n",
              "      <th>Solidity</th>\n",
              "      <th>roundness</th>\n",
              "      <th>Compactness</th>\n",
              "      <th>ShapeFactor1</th>\n",
              "      <th>ShapeFactor2</th>\n",
              "      <th>ShapeFactor3</th>\n",
              "      <th>ShapeFactor4</th>\n",
              "      <th>Class</th>\n",
              "    </tr>\n",
              "  </thead>\n",
              "  <tbody>\n",
              "    <tr>\n",
              "      <th>0</th>\n",
              "      <td>44830</td>\n",
              "      <td>814.955</td>\n",
              "      <td>320.731947</td>\n",
              "      <td>178.405838</td>\n",
              "      <td>1.797766</td>\n",
              "      <td>0.831018</td>\n",
              "      <td>45297</td>\n",
              "      <td>238.912806</td>\n",
              "      <td>0.658877</td>\n",
              "      <td>0.989690</td>\n",
              "      <td>0.848226</td>\n",
              "      <td>0.744899</td>\n",
              "      <td>0.007154</td>\n",
              "      <td>0.001359</td>\n",
              "      <td>0.554874</td>\n",
              "      <td>0.997534</td>\n",
              "      <td>SIRA</td>\n",
              "    </tr>\n",
              "    <tr>\n",
              "      <th>1</th>\n",
              "      <td>33476</td>\n",
              "      <td>691.826</td>\n",
              "      <td>258.837971</td>\n",
              "      <td>165.220760</td>\n",
              "      <td>1.566619</td>\n",
              "      <td>0.769773</td>\n",
              "      <td>33907</td>\n",
              "      <td>206.453305</td>\n",
              "      <td>0.721155</td>\n",
              "      <td>0.987289</td>\n",
              "      <td>0.878921</td>\n",
              "      <td>0.797616</td>\n",
              "      <td>0.007732</td>\n",
              "      <td>0.001930</td>\n",
              "      <td>0.636191</td>\n",
              "      <td>0.996669</td>\n",
              "      <td>DERMASON</td>\n",
              "    </tr>\n",
              "    <tr>\n",
              "      <th>2</th>\n",
              "      <td>27057</td>\n",
              "      <td>606.138</td>\n",
              "      <td>227.460904</td>\n",
              "      <td>151.860320</td>\n",
              "      <td>1.497830</td>\n",
              "      <td>0.744491</td>\n",
              "      <td>27358</td>\n",
              "      <td>185.607226</td>\n",
              "      <td>0.801831</td>\n",
              "      <td>0.988998</td>\n",
              "      <td>0.925436</td>\n",
              "      <td>0.815996</td>\n",
              "      <td>0.008407</td>\n",
              "      <td>0.002299</td>\n",
              "      <td>0.665850</td>\n",
              "      <td>0.997330</td>\n",
              "      <td>DERMASON</td>\n",
              "    </tr>\n",
              "    <tr>\n",
              "      <th>3</th>\n",
              "      <td>49483</td>\n",
              "      <td>844.283</td>\n",
              "      <td>326.602913</td>\n",
              "      <td>194.689529</td>\n",
              "      <td>1.677558</td>\n",
              "      <td>0.802907</td>\n",
              "      <td>50289</td>\n",
              "      <td>251.005403</td>\n",
              "      <td>0.680179</td>\n",
              "      <td>0.983973</td>\n",
              "      <td>0.872348</td>\n",
              "      <td>0.768534</td>\n",
              "      <td>0.006600</td>\n",
              "      <td>0.001420</td>\n",
              "      <td>0.590644</td>\n",
              "      <td>0.990840</td>\n",
              "      <td>SIRA</td>\n",
              "    </tr>\n",
              "    <tr>\n",
              "      <th>4</th>\n",
              "      <td>22461</td>\n",
              "      <td>544.584</td>\n",
              "      <td>192.801303</td>\n",
              "      <td>148.541136</td>\n",
              "      <td>1.297966</td>\n",
              "      <td>0.637517</td>\n",
              "      <td>22699</td>\n",
              "      <td>169.110122</td>\n",
              "      <td>0.774731</td>\n",
              "      <td>0.989515</td>\n",
              "      <td>0.951720</td>\n",
              "      <td>0.877121</td>\n",
              "      <td>0.008584</td>\n",
              "      <td>0.003134</td>\n",
              "      <td>0.769342</td>\n",
              "      <td>0.998579</td>\n",
              "      <td>DERMASON</td>\n",
              "    </tr>\n",
              "    <tr>\n",
              "      <th>...</th>\n",
              "      <td>...</td>\n",
              "      <td>...</td>\n",
              "      <td>...</td>\n",
              "      <td>...</td>\n",
              "      <td>...</td>\n",
              "      <td>...</td>\n",
              "      <td>...</td>\n",
              "      <td>...</td>\n",
              "      <td>...</td>\n",
              "      <td>...</td>\n",
              "      <td>...</td>\n",
              "      <td>...</td>\n",
              "      <td>...</td>\n",
              "      <td>...</td>\n",
              "      <td>...</td>\n",
              "      <td>...</td>\n",
              "      <td>...</td>\n",
              "    </tr>\n",
              "    <tr>\n",
              "      <th>13606</th>\n",
              "      <td>39956</td>\n",
              "      <td>745.166</td>\n",
              "      <td>273.867402</td>\n",
              "      <td>186.564001</td>\n",
              "      <td>1.467954</td>\n",
              "      <td>0.732079</td>\n",
              "      <td>40504</td>\n",
              "      <td>225.551678</td>\n",
              "      <td>0.796000</td>\n",
              "      <td>0.986470</td>\n",
              "      <td>0.904244</td>\n",
              "      <td>0.823580</td>\n",
              "      <td>0.006854</td>\n",
              "      <td>0.001945</td>\n",
              "      <td>0.678284</td>\n",
              "      <td>0.995690</td>\n",
              "      <td>DERMASON</td>\n",
              "    </tr>\n",
              "    <tr>\n",
              "      <th>13607</th>\n",
              "      <td>171914</td>\n",
              "      <td>1595.676</td>\n",
              "      <td>598.541646</td>\n",
              "      <td>368.358372</td>\n",
              "      <td>1.624889</td>\n",
              "      <td>0.788194</td>\n",
              "      <td>174673</td>\n",
              "      <td>467.854361</td>\n",
              "      <td>0.815980</td>\n",
              "      <td>0.984205</td>\n",
              "      <td>0.848461</td>\n",
              "      <td>0.781657</td>\n",
              "      <td>0.003482</td>\n",
              "      <td>0.000802</td>\n",
              "      <td>0.610988</td>\n",
              "      <td>0.992788</td>\n",
              "      <td>BOMBAY</td>\n",
              "    </tr>\n",
              "    <tr>\n",
              "      <th>13608</th>\n",
              "      <td>48266</td>\n",
              "      <td>817.340</td>\n",
              "      <td>304.682706</td>\n",
              "      <td>202.282198</td>\n",
              "      <td>1.506226</td>\n",
              "      <td>0.747812</td>\n",
              "      <td>48780</td>\n",
              "      <td>247.899536</td>\n",
              "      <td>0.807232</td>\n",
              "      <td>0.989463</td>\n",
              "      <td>0.907916</td>\n",
              "      <td>0.813632</td>\n",
              "      <td>0.006313</td>\n",
              "      <td>0.001706</td>\n",
              "      <td>0.661997</td>\n",
              "      <td>0.997117</td>\n",
              "      <td>SIRA</td>\n",
              "    </tr>\n",
              "    <tr>\n",
              "      <th>13609</th>\n",
              "      <td>43279</td>\n",
              "      <td>843.066</td>\n",
              "      <td>336.280446</td>\n",
              "      <td>164.667135</td>\n",
              "      <td>2.042183</td>\n",
              "      <td>0.871907</td>\n",
              "      <td>43813</td>\n",
              "      <td>234.743550</td>\n",
              "      <td>0.614566</td>\n",
              "      <td>0.987812</td>\n",
              "      <td>0.765181</td>\n",
              "      <td>0.698059</td>\n",
              "      <td>0.007770</td>\n",
              "      <td>0.001138</td>\n",
              "      <td>0.487286</td>\n",
              "      <td>0.995128</td>\n",
              "      <td>HOROZ</td>\n",
              "    </tr>\n",
              "    <tr>\n",
              "      <th>13610</th>\n",
              "      <td>46856</td>\n",
              "      <td>809.173</td>\n",
              "      <td>302.595376</td>\n",
              "      <td>197.920303</td>\n",
              "      <td>1.528875</td>\n",
              "      <td>0.756429</td>\n",
              "      <td>47372</td>\n",
              "      <td>244.251739</td>\n",
              "      <td>0.726900</td>\n",
              "      <td>0.989107</td>\n",
              "      <td>0.899275</td>\n",
              "      <td>0.807189</td>\n",
              "      <td>0.006458</td>\n",
              "      <td>0.001691</td>\n",
              "      <td>0.651555</td>\n",
              "      <td>0.996145</td>\n",
              "      <td>SIRA</td>\n",
              "    </tr>\n",
              "  </tbody>\n",
              "</table>\n",
              "<p>13611 rows × 17 columns</p>\n",
              "</div>\n",
              "    <div class=\"colab-df-buttons\">\n",
              "\n",
              "  <div class=\"colab-df-container\">\n",
              "    <button class=\"colab-df-convert\" onclick=\"convertToInteractive('df-af542186-435e-47ae-823a-acc8338b78f4')\"\n",
              "            title=\"Convert this dataframe to an interactive table.\"\n",
              "            style=\"display:none;\">\n",
              "\n",
              "  <svg xmlns=\"http://www.w3.org/2000/svg\" height=\"24px\" viewBox=\"0 -960 960 960\">\n",
              "    <path d=\"M120-120v-720h720v720H120Zm60-500h600v-160H180v160Zm220 220h160v-160H400v160Zm0 220h160v-160H400v160ZM180-400h160v-160H180v160Zm440 0h160v-160H620v160ZM180-180h160v-160H180v160Zm440 0h160v-160H620v160Z\"/>\n",
              "  </svg>\n",
              "    </button>\n",
              "\n",
              "  <style>\n",
              "    .colab-df-container {\n",
              "      display:flex;\n",
              "      gap: 12px;\n",
              "    }\n",
              "\n",
              "    .colab-df-convert {\n",
              "      background-color: #E8F0FE;\n",
              "      border: none;\n",
              "      border-radius: 50%;\n",
              "      cursor: pointer;\n",
              "      display: none;\n",
              "      fill: #1967D2;\n",
              "      height: 32px;\n",
              "      padding: 0 0 0 0;\n",
              "      width: 32px;\n",
              "    }\n",
              "\n",
              "    .colab-df-convert:hover {\n",
              "      background-color: #E2EBFA;\n",
              "      box-shadow: 0px 1px 2px rgba(60, 64, 67, 0.3), 0px 1px 3px 1px rgba(60, 64, 67, 0.15);\n",
              "      fill: #174EA6;\n",
              "    }\n",
              "\n",
              "    .colab-df-buttons div {\n",
              "      margin-bottom: 4px;\n",
              "    }\n",
              "\n",
              "    [theme=dark] .colab-df-convert {\n",
              "      background-color: #3B4455;\n",
              "      fill: #D2E3FC;\n",
              "    }\n",
              "\n",
              "    [theme=dark] .colab-df-convert:hover {\n",
              "      background-color: #434B5C;\n",
              "      box-shadow: 0px 1px 3px 1px rgba(0, 0, 0, 0.15);\n",
              "      filter: drop-shadow(0px 1px 2px rgba(0, 0, 0, 0.3));\n",
              "      fill: #FFFFFF;\n",
              "    }\n",
              "  </style>\n",
              "\n",
              "    <script>\n",
              "      const buttonEl =\n",
              "        document.querySelector('#df-af542186-435e-47ae-823a-acc8338b78f4 button.colab-df-convert');\n",
              "      buttonEl.style.display =\n",
              "        google.colab.kernel.accessAllowed ? 'block' : 'none';\n",
              "\n",
              "      async function convertToInteractive(key) {\n",
              "        const element = document.querySelector('#df-af542186-435e-47ae-823a-acc8338b78f4');\n",
              "        const dataTable =\n",
              "          await google.colab.kernel.invokeFunction('convertToInteractive',\n",
              "                                                    [key], {});\n",
              "        if (!dataTable) return;\n",
              "\n",
              "        const docLinkHtml = 'Like what you see? Visit the ' +\n",
              "          '<a target=\"_blank\" href=https://colab.research.google.com/notebooks/data_table.ipynb>data table notebook</a>'\n",
              "          + ' to learn more about interactive tables.';\n",
              "        element.innerHTML = '';\n",
              "        dataTable['output_type'] = 'display_data';\n",
              "        await google.colab.output.renderOutput(dataTable, element);\n",
              "        const docLink = document.createElement('div');\n",
              "        docLink.innerHTML = docLinkHtml;\n",
              "        element.appendChild(docLink);\n",
              "      }\n",
              "    </script>\n",
              "  </div>\n",
              "\n",
              "\n",
              "    <div id=\"df-a12ca988-72fd-42f9-8877-2a15cab8af85\">\n",
              "      <button class=\"colab-df-quickchart\" onclick=\"quickchart('df-a12ca988-72fd-42f9-8877-2a15cab8af85')\"\n",
              "                title=\"Suggest charts\"\n",
              "                style=\"display:none;\">\n",
              "\n",
              "<svg xmlns=\"http://www.w3.org/2000/svg\" height=\"24px\"viewBox=\"0 0 24 24\"\n",
              "     width=\"24px\">\n",
              "    <g>\n",
              "        <path d=\"M19 3H5c-1.1 0-2 .9-2 2v14c0 1.1.9 2 2 2h14c1.1 0 2-.9 2-2V5c0-1.1-.9-2-2-2zM9 17H7v-7h2v7zm4 0h-2V7h2v10zm4 0h-2v-4h2v4z\"/>\n",
              "    </g>\n",
              "</svg>\n",
              "      </button>\n",
              "\n",
              "<style>\n",
              "  .colab-df-quickchart {\n",
              "      --bg-color: #E8F0FE;\n",
              "      --fill-color: #1967D2;\n",
              "      --hover-bg-color: #E2EBFA;\n",
              "      --hover-fill-color: #174EA6;\n",
              "      --disabled-fill-color: #AAA;\n",
              "      --disabled-bg-color: #DDD;\n",
              "  }\n",
              "\n",
              "  [theme=dark] .colab-df-quickchart {\n",
              "      --bg-color: #3B4455;\n",
              "      --fill-color: #D2E3FC;\n",
              "      --hover-bg-color: #434B5C;\n",
              "      --hover-fill-color: #FFFFFF;\n",
              "      --disabled-bg-color: #3B4455;\n",
              "      --disabled-fill-color: #666;\n",
              "  }\n",
              "\n",
              "  .colab-df-quickchart {\n",
              "    background-color: var(--bg-color);\n",
              "    border: none;\n",
              "    border-radius: 50%;\n",
              "    cursor: pointer;\n",
              "    display: none;\n",
              "    fill: var(--fill-color);\n",
              "    height: 32px;\n",
              "    padding: 0;\n",
              "    width: 32px;\n",
              "  }\n",
              "\n",
              "  .colab-df-quickchart:hover {\n",
              "    background-color: var(--hover-bg-color);\n",
              "    box-shadow: 0 1px 2px rgba(60, 64, 67, 0.3), 0 1px 3px 1px rgba(60, 64, 67, 0.15);\n",
              "    fill: var(--button-hover-fill-color);\n",
              "  }\n",
              "\n",
              "  .colab-df-quickchart-complete:disabled,\n",
              "  .colab-df-quickchart-complete:disabled:hover {\n",
              "    background-color: var(--disabled-bg-color);\n",
              "    fill: var(--disabled-fill-color);\n",
              "    box-shadow: none;\n",
              "  }\n",
              "\n",
              "  .colab-df-spinner {\n",
              "    border: 2px solid var(--fill-color);\n",
              "    border-color: transparent;\n",
              "    border-bottom-color: var(--fill-color);\n",
              "    animation:\n",
              "      spin 1s steps(1) infinite;\n",
              "  }\n",
              "\n",
              "  @keyframes spin {\n",
              "    0% {\n",
              "      border-color: transparent;\n",
              "      border-bottom-color: var(--fill-color);\n",
              "      border-left-color: var(--fill-color);\n",
              "    }\n",
              "    20% {\n",
              "      border-color: transparent;\n",
              "      border-left-color: var(--fill-color);\n",
              "      border-top-color: var(--fill-color);\n",
              "    }\n",
              "    30% {\n",
              "      border-color: transparent;\n",
              "      border-left-color: var(--fill-color);\n",
              "      border-top-color: var(--fill-color);\n",
              "      border-right-color: var(--fill-color);\n",
              "    }\n",
              "    40% {\n",
              "      border-color: transparent;\n",
              "      border-right-color: var(--fill-color);\n",
              "      border-top-color: var(--fill-color);\n",
              "    }\n",
              "    60% {\n",
              "      border-color: transparent;\n",
              "      border-right-color: var(--fill-color);\n",
              "    }\n",
              "    80% {\n",
              "      border-color: transparent;\n",
              "      border-right-color: var(--fill-color);\n",
              "      border-bottom-color: var(--fill-color);\n",
              "    }\n",
              "    90% {\n",
              "      border-color: transparent;\n",
              "      border-bottom-color: var(--fill-color);\n",
              "    }\n",
              "  }\n",
              "</style>\n",
              "\n",
              "      <script>\n",
              "        async function quickchart(key) {\n",
              "          const quickchartButtonEl =\n",
              "            document.querySelector('#' + key + ' button');\n",
              "          quickchartButtonEl.disabled = true;  // To prevent multiple clicks.\n",
              "          quickchartButtonEl.classList.add('colab-df-spinner');\n",
              "          try {\n",
              "            const charts = await google.colab.kernel.invokeFunction(\n",
              "                'suggestCharts', [key], {});\n",
              "          } catch (error) {\n",
              "            console.error('Error during call to suggestCharts:', error);\n",
              "          }\n",
              "          quickchartButtonEl.classList.remove('colab-df-spinner');\n",
              "          quickchartButtonEl.classList.add('colab-df-quickchart-complete');\n",
              "        }\n",
              "        (() => {\n",
              "          let quickchartButtonEl =\n",
              "            document.querySelector('#df-a12ca988-72fd-42f9-8877-2a15cab8af85 button');\n",
              "          quickchartButtonEl.style.display =\n",
              "            google.colab.kernel.accessAllowed ? 'block' : 'none';\n",
              "        })();\n",
              "      </script>\n",
              "    </div>\n",
              "\n",
              "  <div id=\"id_2750bf67-b9e1-4b26-b9d0-4d7babb97a1d\">\n",
              "    <style>\n",
              "      .colab-df-generate {\n",
              "        background-color: #E8F0FE;\n",
              "        border: none;\n",
              "        border-radius: 50%;\n",
              "        cursor: pointer;\n",
              "        display: none;\n",
              "        fill: #1967D2;\n",
              "        height: 32px;\n",
              "        padding: 0 0 0 0;\n",
              "        width: 32px;\n",
              "      }\n",
              "\n",
              "      .colab-df-generate:hover {\n",
              "        background-color: #E2EBFA;\n",
              "        box-shadow: 0px 1px 2px rgba(60, 64, 67, 0.3), 0px 1px 3px 1px rgba(60, 64, 67, 0.15);\n",
              "        fill: #174EA6;\n",
              "      }\n",
              "\n",
              "      [theme=dark] .colab-df-generate {\n",
              "        background-color: #3B4455;\n",
              "        fill: #D2E3FC;\n",
              "      }\n",
              "\n",
              "      [theme=dark] .colab-df-generate:hover {\n",
              "        background-color: #434B5C;\n",
              "        box-shadow: 0px 1px 3px 1px rgba(0, 0, 0, 0.15);\n",
              "        filter: drop-shadow(0px 1px 2px rgba(0, 0, 0, 0.3));\n",
              "        fill: #FFFFFF;\n",
              "      }\n",
              "    </style>\n",
              "    <button class=\"colab-df-generate\" onclick=\"generateWithVariable('df')\"\n",
              "            title=\"Generate code using this dataframe.\"\n",
              "            style=\"display:none;\">\n",
              "\n",
              "  <svg xmlns=\"http://www.w3.org/2000/svg\" height=\"24px\"viewBox=\"0 0 24 24\"\n",
              "       width=\"24px\">\n",
              "    <path d=\"M7,19H8.4L18.45,9,17,7.55,7,17.6ZM5,21V16.75L18.45,3.32a2,2,0,0,1,2.83,0l1.4,1.43a1.91,1.91,0,0,1,.58,1.4,1.91,1.91,0,0,1-.58,1.4L9.25,21ZM18.45,9,17,7.55Zm-12,3A5.31,5.31,0,0,0,4.9,8.1,5.31,5.31,0,0,0,1,6.5,5.31,5.31,0,0,0,4.9,4.9,5.31,5.31,0,0,0,6.5,1,5.31,5.31,0,0,0,8.1,4.9,5.31,5.31,0,0,0,12,6.5,5.46,5.46,0,0,0,6.5,12Z\"/>\n",
              "  </svg>\n",
              "    </button>\n",
              "    <script>\n",
              "      (() => {\n",
              "      const buttonEl =\n",
              "        document.querySelector('#id_2750bf67-b9e1-4b26-b9d0-4d7babb97a1d button.colab-df-generate');\n",
              "      buttonEl.style.display =\n",
              "        google.colab.kernel.accessAllowed ? 'block' : 'none';\n",
              "\n",
              "      buttonEl.onclick = () => {\n",
              "        google.colab.notebook.generateWithVariable('df');\n",
              "      }\n",
              "      })();\n",
              "    </script>\n",
              "  </div>\n",
              "\n",
              "    </div>\n",
              "  </div>\n"
            ],
            "application/vnd.google.colaboratory.intrinsic+json": {
              "type": "dataframe",
              "variable_name": "df",
              "summary": "{\n  \"name\": \"df\",\n  \"rows\": 13611,\n  \"fields\": [\n    {\n      \"column\": \"Area\",\n      \"properties\": {\n        \"dtype\": \"number\",\n        \"std\": 29324,\n        \"min\": 20420,\n        \"max\": 254616,\n        \"num_unique_values\": 12011,\n        \"samples\": [\n          64109,\n          29507,\n          48141\n        ],\n        \"semantic_type\": \"\",\n        \"description\": \"\"\n      }\n    },\n    {\n      \"column\": \"Perimeter\",\n      \"properties\": {\n        \"dtype\": \"number\",\n        \"std\": 214.28969589196174,\n        \"min\": 524.736,\n        \"max\": 1985.37,\n        \"num_unique_values\": 13351,\n        \"samples\": [\n          990.719,\n          628.813,\n          712.42\n        ],\n        \"semantic_type\": \"\",\n        \"description\": \"\"\n      }\n    },\n    {\n      \"column\": \"MajorAxisLength\",\n      \"properties\": {\n        \"dtype\": \"number\",\n        \"std\": 85.69418595953212,\n        \"min\": 183.601165003839,\n        \"max\": 738.860153481881,\n        \"num_unique_values\": 13543,\n        \"samples\": [\n          275.83078191445,\n          404.078674611232,\n          209.0246319824\n        ],\n        \"semantic_type\": \"\",\n        \"description\": \"\"\n      }\n    },\n    {\n      \"column\": \"MinorAxisLength\",\n      \"properties\": {\n        \"dtype\": \"number\",\n        \"std\": 44.97009129455543,\n        \"min\": 122.512653450744,\n        \"max\": 460.19849682784,\n        \"num_unique_values\": 13543,\n        \"samples\": [\n          215.836196877079,\n          255.838690001584,\n          152.48862670133\n        ],\n        \"semantic_type\": \"\",\n        \"description\": \"\"\n      }\n    },\n    {\n      \"column\": \"AspectRation\",\n      \"properties\": {\n        \"dtype\": \"number\",\n        \"std\": 0.24667845568492644,\n        \"min\": 1.02486759606677,\n        \"max\": 2.43030644683663,\n        \"num_unique_values\": 13543,\n        \"samples\": [\n          1.27796350151378,\n          1.57942754713421,\n          1.37075555406374\n        ],\n        \"semantic_type\": \"\",\n        \"description\": \"\"\n      }\n    },\n    {\n      \"column\": \"Eccentricity\",\n      \"properties\": {\n        \"dtype\": \"number\",\n        \"std\": 0.09200176320337757,\n        \"min\": 0.218951263353565,\n        \"max\": 0.911422968468005,\n        \"num_unique_values\": 13543,\n        \"samples\": [\n          0.622656917048344,\n          0.774036655462129,\n          0.683954493116517\n        ],\n        \"semantic_type\": \"\",\n        \"description\": \"\"\n      }\n    },\n    {\n      \"column\": \"ConvexArea\",\n      \"properties\": {\n        \"dtype\": \"number\",\n        \"std\": 29774,\n        \"min\": 20684,\n        \"max\": 263261,\n        \"num_unique_values\": 12066,\n        \"samples\": [\n          43298,\n          75191,\n          138869\n        ],\n        \"semantic_type\": \"\",\n        \"description\": \"\"\n      }\n    },\n    {\n      \"column\": \"EquivDiameter\",\n      \"properties\": {\n        \"dtype\": \"number\",\n        \"std\": 59.17712014913505,\n        \"min\": 161.24376423134,\n        \"max\": 569.374358328761,\n        \"num_unique_values\": 12011,\n        \"samples\": [\n          285.702842081465,\n          193.828478935631,\n          247.578320785758\n        ],\n        \"semantic_type\": \"\",\n        \"description\": \"\"\n      }\n    },\n    {\n      \"column\": \"Extent\",\n      \"properties\": {\n        \"dtype\": \"number\",\n        \"std\": 0.04908636684603889,\n        \"min\": 0.55531471681117,\n        \"max\": 0.866194640564827,\n        \"num_unique_values\": 13535,\n        \"samples\": [\n          0.772520473157416,\n          0.738510258214692,\n          0.674793193605075\n        ],\n        \"semantic_type\": \"\",\n        \"description\": \"\"\n      }\n    },\n    {\n      \"column\": \"Solidity\",\n      \"properties\": {\n        \"dtype\": \"number\",\n        \"std\": 0.0046603791634902665,\n        \"min\": 0.919246157085702,\n        \"max\": 0.994677499945689,\n        \"num_unique_values\": 13526,\n        \"samples\": [\n          0.981192183626136,\n          0.987880076546885,\n          0.981549668610553\n        ],\n        \"semantic_type\": \"\",\n        \"description\": \"\"\n      }\n    },\n    {\n      \"column\": \"roundness\",\n      \"properties\": {\n        \"dtype\": \"number\",\n        \"std\": 0.0595198879482395,\n        \"min\": 0.489618256241215,\n        \"max\": 0.990685399616032,\n        \"num_unique_values\": 13543,\n        \"samples\": [\n          0.948998348425416,\n          0.664611280965837,\n          0.936897283613865\n        ],\n        \"semantic_type\": \"\",\n        \"description\": \"\"\n      }\n    },\n    {\n      \"column\": \"Compactness\",\n      \"properties\": {\n        \"dtype\": \"number\",\n        \"std\": 0.06171346312041551,\n        \"min\": 0.640576758976872,\n        \"max\": 0.987302969377811,\n        \"num_unique_values\": 13543,\n        \"samples\": [\n          0.88332749990312,\n          0.791852257814694,\n          0.85161610483188\n        ],\n        \"semantic_type\": \"\",\n        \"description\": \"\"\n      }\n    },\n    {\n      \"column\": \"ShapeFactor1\",\n      \"properties\": {\n        \"dtype\": \"number\",\n        \"std\": 0.0011279982276085007,\n        \"min\": 0.002778012668386,\n        \"max\": 0.010451169324379,\n        \"num_unique_values\": 13543,\n        \"samples\": [\n          0.005915941703259,\n          0.005025229133332,\n          0.008398948526636\n        ],\n        \"semantic_type\": \"\",\n        \"description\": \"\"\n      }\n    },\n    {\n      \"column\": \"ShapeFactor2\",\n      \"properties\": {\n        \"dtype\": \"number\",\n        \"std\": 0.000595874856732387,\n        \"min\": 0.000564169018033,\n        \"max\": 0.003664971964452,\n        \"num_unique_values\": 13543,\n        \"samples\": [\n          0.002221726796701,\n          0.001218743378279,\n          0.002725085578455\n        ],\n        \"semantic_type\": \"\",\n        \"description\": \"\"\n      }\n    },\n    {\n      \"column\": \"ShapeFactor3\",\n      \"properties\": {\n        \"dtype\": \"number\",\n        \"std\": 0.09899615048070133,\n        \"min\": 0.410338584141314,\n        \"max\": 0.974767153342243,\n        \"num_unique_values\": 13543,\n        \"samples\": [\n          0.780267472085097,\n          0.627029998206229,\n          0.725249990009023\n        ],\n        \"semantic_type\": \"\",\n        \"description\": \"\"\n      }\n    },\n    {\n      \"column\": \"ShapeFactor4\",\n      \"properties\": {\n        \"dtype\": \"number\",\n        \"std\": 0.004366457748727997,\n        \"min\": 0.947687402709862,\n        \"max\": 0.999732530047139,\n        \"num_unique_values\": 13543,\n        \"samples\": [\n          0.997153350743178,\n          0.990348452046433,\n          0.99414045188954\n        ],\n        \"semantic_type\": \"\",\n        \"description\": \"\"\n      }\n    },\n    {\n      \"column\": \"Class\",\n      \"properties\": {\n        \"dtype\": \"category\",\n        \"num_unique_values\": 7,\n        \"samples\": [\n          \"SIRA\",\n          \"DERMASON\",\n          \"SEKER\"\n        ],\n        \"semantic_type\": \"\",\n        \"description\": \"\"\n      }\n    }\n  ]\n}"
            }
          },
          "metadata": {},
          "execution_count": 17
        }
      ],
      "source": [
        "df"
      ]
    },
    {
      "cell_type": "code",
      "execution_count": 18,
      "id": "1St-29dI04l3",
      "metadata": {
        "id": "1St-29dI04l3"
      },
      "outputs": [],
      "source": [
        "# 1. One-hot encode the class labels\n",
        "class_encoder = OneHotEncoder(sparse_output=False)\n",
        "y_onehot = class_encoder.fit_transform(df[['Class']])\n",
        "\n",
        "# 2. Train-test split (before normalization)\n",
        "X = df.drop(columns=['Class']).values  # shape (13611, 16)\n",
        "X_train, X_test, y_train, y_test = train_test_split(X, y_onehot, test_size=0.10, random_state=42, shuffle=True)\n",
        "\n",
        "# 3. Normalize using min-max (fit only on X_train)\n",
        "scaler = MinMaxScaler()\n",
        "X_train_norm = scaler.fit_transform(X_train)\n",
        "X_test_norm = scaler.transform(X_test)"
      ]
    },
    {
      "cell_type": "markdown",
      "id": "o4QPlcYa0sHN",
      "metadata": {
        "id": "o4QPlcYa0sHN"
      },
      "source": [
        "### Exercise 1.2 : Training and Testing the Neural Network (40 points)\n",
        "\n",
        "Design a 3-layer (3 hidden layers and this does not include the input or output layer) artificial deep neural network, specifically a feed-forward multi-layer perceptron (using the sigmoid activation function), to classify the type of 'Dry Bean' given the other attributes in the data set, similar to the one mentioned in the paper above. Please note that this is a **multi-class classification** problem so select the right number of nodes accordingly for the input and output layers.\n",
        "\n",
        "Consider the following hyperparameters while developing your model:\n",
        "\n",
        "- Model type: Keras Sequential\n",
        "- Make sure your input layer matches the size of your X matrix\n",
        "- Number and type of hidden layers: 3 and Dense\n",
        "- Number of nodes in each hidden layer: 12\n",
        "- Learning rate should be 0.3\n",
        "- Number of epochs should be 100\n",
        "- The sigmoid function is to be used as the activation function in each layer\n",
        "- Your output layer has to use a sigmoid function and the number of outputs should match the shape of your y\n",
        "- Your loss function should be MSE\n",
        "- Stochastic Gradient Descent should be used to minimize the error rate\n",
        "\n",
        "**Note:** We are having you use MSE as your loss function for this model, is this a good choice? Why or why not? If not, what should you use instead in future models? Answer below\n",
        "\n",
        "__Requirements once the model has been trained :__\n",
        "\n",
        "- A confusion matrix for all classes, specifying the true positive, true negative, false positive, and false negative cases for each category in the class\n",
        "- Since we do have OHE output (multi-class output) you will need to either reshape or argmax your outputs. Make sure they have already been thresholded as well i.e. look at yhat and do you see 1's and 0's?\n",
        "- The accuracy and mean squared error (MSE) of the model\n",
        "- The precision and recall for each label in the class\n",
        "\n",
        "__Notes :__\n",
        "\n",
        "- The mean squared error (MSE) values obtained __should be positive__.\n"
      ]
    },
    {
      "cell_type": "code",
      "execution_count": 19,
      "id": "KhW7lew706U8",
      "metadata": {
        "colab": {
          "base_uri": "https://localhost:8080/"
        },
        "id": "KhW7lew706U8",
        "outputId": "4c592c9f-68a4-4c3e-d524-14f42b3197e3"
      },
      "outputs": [
        {
          "output_type": "stream",
          "name": "stderr",
          "text": [
            "/usr/local/lib/python3.12/dist-packages/keras/src/layers/core/dense.py:93: UserWarning: Do not pass an `input_shape`/`input_dim` argument to a layer. When using Sequential models, prefer using an `Input(shape)` object as the first layer in the model instead.\n",
            "  super().__init__(activity_regularizer=activity_regularizer, **kwargs)\n"
          ]
        }
      ],
      "source": [
        "import tensorflow as tf\n",
        "import keras\n",
        "from keras.models import Sequential\n",
        "from keras.layers import Dense\n",
        "from keras.optimizers import SGD\n",
        "\n",
        "input_dim = X_train_norm.shape[1]\n",
        "output_dim = y_train.shape[1]\n",
        "\n",
        "model = Sequential([\n",
        "    Dense(12, activation='sigmoid', input_shape=(input_dim,)),\n",
        "    Dense(12, activation='sigmoid'),\n",
        "    Dense(12, activation='sigmoid'),\n",
        "    Dense(output_dim, activation='sigmoid')\n",
        "])\n",
        "\n",
        "optimizer = SGD(learning_rate=0.3)\n",
        "model.compile(optimizer=optimizer, loss='mean_squared_error', metrics=['accuracy'])\n"
      ]
    },
    {
      "cell_type": "code",
      "execution_count": 20,
      "id": "CVmzyPOwxvbL",
      "metadata": {
        "id": "CVmzyPOwxvbL"
      },
      "outputs": [],
      "source": [
        "history = model.fit(\n",
        "    X_train_norm, y_train,\n",
        "    epochs=100,\n",
        "    batch_size=32,\n",
        "    verbose=0,      # Suppress output as required\n",
        "    validation_data=(X_test_norm, y_test)\n",
        ")"
      ]
    },
    {
      "cell_type": "code",
      "execution_count": 21,
      "id": "HLj51p_4xwa7",
      "metadata": {
        "colab": {
          "base_uri": "https://localhost:8080/"
        },
        "id": "HLj51p_4xwa7",
        "outputId": "ccfcf0ad-6c19-4efe-e4d9-62d1fe5d959f"
      },
      "outputs": [
        {
          "output_type": "stream",
          "name": "stdout",
          "text": [
            "\u001b[1m43/43\u001b[0m \u001b[32m━━━━━━━━━━━━━━━━━━━━\u001b[0m\u001b[37m\u001b[0m \u001b[1m0s\u001b[0m 3ms/step\n"
          ]
        }
      ],
      "source": [
        "import numpy as np\n",
        "\n",
        "# Predict on test data\n",
        "yhat_prob = model.predict(X_test_norm)\n",
        "\n",
        "# Convert probabilities to hard 1/0 using argmax for multiclass OHE\n",
        "yhat_classes = np.zeros_like(yhat_prob)\n",
        "yhat_classes[np.arange(len(yhat_prob)), yhat_prob.argmax(axis=1)] = 1\n",
        "\n",
        "# For metrics below, also get the integer class labels\n",
        "y_test_class = y_test.argmax(axis=1)\n",
        "yhat_class = yhat_prob.argmax(axis=1)"
      ]
    },
    {
      "cell_type": "code",
      "execution_count": 22,
      "id": "XBWTbD6sx32S",
      "metadata": {
        "colab": {
          "base_uri": "https://localhost:8080/"
        },
        "id": "XBWTbD6sx32S",
        "outputId": "2ebf9f2e-ecda-427e-c1c7-fd29c765adb4"
      },
      "outputs": [
        {
          "output_type": "stream",
          "name": "stdout",
          "text": [
            "Confusion Matrix:\n",
            " [[  0   0   0  11  72   0  54]\n",
            " [  0   0   0   0  63   0   0]\n",
            " [  0   0   0   1 188   0   6]\n",
            " [  0   0   0 329   1   6   6]\n",
            " [  0   0   0   0 177   0   4]\n",
            " [  0   0   0 112   0  87   1]\n",
            " [  0   0   0 145  19   0  80]]\n"
          ]
        }
      ],
      "source": [
        "from sklearn.metrics import confusion_matrix, classification_report, accuracy_score, mean_squared_error\n",
        "\n",
        "cm = confusion_matrix(y_test_class, yhat_class)\n",
        "print(\"Confusion Matrix:\\n\", cm)\n"
      ]
    },
    {
      "cell_type": "code",
      "execution_count": 23,
      "id": "eZ7lw8RKx4by",
      "metadata": {
        "colab": {
          "base_uri": "https://localhost:8080/"
        },
        "id": "eZ7lw8RKx4by",
        "outputId": "3faad627-a85e-45b2-dc7d-ba11edd1ce4a"
      },
      "outputs": [
        {
          "output_type": "stream",
          "name": "stdout",
          "text": [
            "              precision    recall  f1-score   support\n",
            "\n",
            "    BARBUNYA       0.00      0.00      0.00       137\n",
            "      BOMBAY       0.00      0.00      0.00        63\n",
            "        CALI       0.00      0.00      0.00       195\n",
            "    DERMASON       0.55      0.96      0.70       342\n",
            "       HOROZ       0.34      0.98      0.50       181\n",
            "       SEKER       0.94      0.43      0.59       200\n",
            "        SIRA       0.53      0.33      0.41       244\n",
            "\n",
            "    accuracy                           0.49      1362\n",
            "   macro avg       0.34      0.39      0.31      1362\n",
            "weighted avg       0.42      0.49      0.40      1362\n",
            "\n"
          ]
        },
        {
          "output_type": "stream",
          "name": "stderr",
          "text": [
            "/usr/local/lib/python3.12/dist-packages/sklearn/metrics/_classification.py:1565: UndefinedMetricWarning: Precision is ill-defined and being set to 0.0 in labels with no predicted samples. Use `zero_division` parameter to control this behavior.\n",
            "  _warn_prf(average, modifier, f\"{metric.capitalize()} is\", len(result))\n",
            "/usr/local/lib/python3.12/dist-packages/sklearn/metrics/_classification.py:1565: UndefinedMetricWarning: Precision is ill-defined and being set to 0.0 in labels with no predicted samples. Use `zero_division` parameter to control this behavior.\n",
            "  _warn_prf(average, modifier, f\"{metric.capitalize()} is\", len(result))\n",
            "/usr/local/lib/python3.12/dist-packages/sklearn/metrics/_classification.py:1565: UndefinedMetricWarning: Precision is ill-defined and being set to 0.0 in labels with no predicted samples. Use `zero_division` parameter to control this behavior.\n",
            "  _warn_prf(average, modifier, f\"{metric.capitalize()} is\", len(result))\n"
          ]
        }
      ],
      "source": [
        "print(classification_report(y_test_class, yhat_class, target_names=class_encoder.categories_[0]))"
      ]
    },
    {
      "cell_type": "code",
      "execution_count": 24,
      "id": "KuIpT0rNx6qR",
      "metadata": {
        "colab": {
          "base_uri": "https://localhost:8080/"
        },
        "id": "KuIpT0rNx6qR",
        "outputId": "aa4349b6-29f6-4c91-afee-03cd3354053e"
      },
      "outputs": [
        {
          "output_type": "stream",
          "name": "stdout",
          "text": [
            "Accuracy: 0.4941\n",
            "Mean Squared Error: 0.1445\n"
          ]
        }
      ],
      "source": [
        "acc = accuracy_score(y_test_class, yhat_class)\n",
        "mse = mean_squared_error(y_test, yhat_classes)\n",
        "print(f\"Accuracy: {acc:.4f}\")\n",
        "print(f\"Mean Squared Error: {mse:.4f}\")"
      ]
    },
    {
      "cell_type": "markdown",
      "id": "DJUdAClHx822",
      "metadata": {
        "id": "DJUdAClHx822"
      },
      "source": [
        "Why is MSE not the optimal loss for this problem?\n",
        "\n",
        "MSE works but is not optimal for classification, especially multiclass.\n",
        "\n",
        "MSE penalizes the squared distance between predicted and actual vectors but does not encourage probability distributions to fit actual classes as well as other losses.\n",
        "\n",
        "Better Choice: Use categorical_crossentropy as loss (with softmax output), which is mathematically designed for probability outputs and one-hot labels in multi-class settings. This loss directly optimizes correct class probability.\n",
        "\n"
      ]
    },
    {
      "cell_type": "markdown",
      "id": "083f5188",
      "metadata": {
        "id": "083f5188"
      },
      "source": [
        "## Exercise 2 : k-fold Cross Validation (20 points)\n",
        "\n",
        "In order to avoid **using biased models**, use 10-fold cross validation to generalize the model from Ex1.2 on the given data set. You can choose a n_repeats value of 1-5\n",
        "\n",
        "__Requirements :__\n",
        "- Print the accuracy values during each iteration of the **cross validation** not the iterations per epoch or the epochs\n",
        "- Print the overall average accuracy per each n_fold value, look at the documentation for the scoring parameter\n",
        "\n"
      ]
    },
    {
      "cell_type": "code",
      "execution_count": 25,
      "id": "tu8rIov607s4",
      "metadata": {
        "id": "tu8rIov607s4"
      },
      "outputs": [],
      "source": [
        "def build_model(input_dim, output_dim):\n",
        "    model = Sequential([\n",
        "        Dense(12, activation='sigmoid', input_shape=(input_dim,)),\n",
        "        Dense(12, activation='sigmoid'),\n",
        "        Dense(12, activation='sigmoid'),\n",
        "        Dense(output_dim, activation='sigmoid')\n",
        "    ])\n",
        "    optimizer = SGD(learning_rate=0.3)\n",
        "    model.compile(optimizer=optimizer, loss='mean_squared_error', metrics=['accuracy'])\n",
        "    return model"
      ]
    },
    {
      "cell_type": "code",
      "execution_count": 26,
      "id": "xXekT0suzj2q",
      "metadata": {
        "id": "xXekT0suzj2q"
      },
      "outputs": [],
      "source": [
        "from sklearn.model_selection import KFold\n",
        "from sklearn.metrics import accuracy_score"
      ]
    },
    {
      "cell_type": "code",
      "execution_count": 27,
      "id": "aGN9dXy0zeyK",
      "metadata": {
        "colab": {
          "base_uri": "https://localhost:8080/"
        },
        "id": "aGN9dXy0zeyK",
        "outputId": "c6dada8f-220e-45bb-a8d6-4959b2d4be66"
      },
      "outputs": [
        {
          "output_type": "stream",
          "name": "stdout",
          "text": [
            "\n",
            "=== Repeat 1 ===\n"
          ]
        },
        {
          "output_type": "stream",
          "name": "stderr",
          "text": [
            "/usr/local/lib/python3.12/dist-packages/keras/src/layers/core/dense.py:93: UserWarning: Do not pass an `input_shape`/`input_dim` argument to a layer. When using Sequential models, prefer using an `Input(shape)` object as the first layer in the model instead.\n",
            "  super().__init__(activity_regularizer=activity_regularizer, **kwargs)\n"
          ]
        },
        {
          "output_type": "stream",
          "name": "stdout",
          "text": [
            "\u001b[1m39/39\u001b[0m \u001b[32m━━━━━━━━━━━━━━━━━━━━\u001b[0m\u001b[37m\u001b[0m \u001b[1m0s\u001b[0m 3ms/step\n",
            "Fold 1: Accuracy = 0.5282\n"
          ]
        },
        {
          "output_type": "stream",
          "name": "stderr",
          "text": [
            "/usr/local/lib/python3.12/dist-packages/keras/src/layers/core/dense.py:93: UserWarning: Do not pass an `input_shape`/`input_dim` argument to a layer. When using Sequential models, prefer using an `Input(shape)` object as the first layer in the model instead.\n",
            "  super().__init__(activity_regularizer=activity_regularizer, **kwargs)\n"
          ]
        },
        {
          "output_type": "stream",
          "name": "stdout",
          "text": [
            "\u001b[1m39/39\u001b[0m \u001b[32m━━━━━━━━━━━━━━━━━━━━\u001b[0m\u001b[37m\u001b[0m \u001b[1m0s\u001b[0m 3ms/step\n",
            "Fold 2: Accuracy = 0.5004\n"
          ]
        },
        {
          "output_type": "stream",
          "name": "stderr",
          "text": [
            "/usr/local/lib/python3.12/dist-packages/keras/src/layers/core/dense.py:93: UserWarning: Do not pass an `input_shape`/`input_dim` argument to a layer. When using Sequential models, prefer using an `Input(shape)` object as the first layer in the model instead.\n",
            "  super().__init__(activity_regularizer=activity_regularizer, **kwargs)\n"
          ]
        },
        {
          "output_type": "stream",
          "name": "stdout",
          "text": [
            "\u001b[1m39/39\u001b[0m \u001b[32m━━━━━━━━━━━━━━━━━━━━\u001b[0m\u001b[37m\u001b[0m \u001b[1m0s\u001b[0m 4ms/step\n",
            "Fold 3: Accuracy = 0.3755\n"
          ]
        },
        {
          "output_type": "stream",
          "name": "stderr",
          "text": [
            "/usr/local/lib/python3.12/dist-packages/keras/src/layers/core/dense.py:93: UserWarning: Do not pass an `input_shape`/`input_dim` argument to a layer. When using Sequential models, prefer using an `Input(shape)` object as the first layer in the model instead.\n",
            "  super().__init__(activity_regularizer=activity_regularizer, **kwargs)\n"
          ]
        },
        {
          "output_type": "stream",
          "name": "stdout",
          "text": [
            "\u001b[1m39/39\u001b[0m \u001b[32m━━━━━━━━━━━━━━━━━━━━\u001b[0m\u001b[37m\u001b[0m \u001b[1m0s\u001b[0m 3ms/step\n",
            "Fold 4: Accuracy = 0.5176\n"
          ]
        },
        {
          "output_type": "stream",
          "name": "stderr",
          "text": [
            "/usr/local/lib/python3.12/dist-packages/keras/src/layers/core/dense.py:93: UserWarning: Do not pass an `input_shape`/`input_dim` argument to a layer. When using Sequential models, prefer using an `Input(shape)` object as the first layer in the model instead.\n",
            "  super().__init__(activity_regularizer=activity_regularizer, **kwargs)\n"
          ]
        },
        {
          "output_type": "stream",
          "name": "stdout",
          "text": [
            "\u001b[1m39/39\u001b[0m \u001b[32m━━━━━━━━━━━━━━━━━━━━\u001b[0m\u001b[37m\u001b[0m \u001b[1m0s\u001b[0m 3ms/step\n",
            "Fold 5: Accuracy = 0.2767\n"
          ]
        },
        {
          "output_type": "stream",
          "name": "stderr",
          "text": [
            "/usr/local/lib/python3.12/dist-packages/keras/src/layers/core/dense.py:93: UserWarning: Do not pass an `input_shape`/`input_dim` argument to a layer. When using Sequential models, prefer using an `Input(shape)` object as the first layer in the model instead.\n",
            "  super().__init__(activity_regularizer=activity_regularizer, **kwargs)\n"
          ]
        },
        {
          "output_type": "stream",
          "name": "stdout",
          "text": [
            "\u001b[1m39/39\u001b[0m \u001b[32m━━━━━━━━━━━━━━━━━━━━\u001b[0m\u001b[37m\u001b[0m \u001b[1m0s\u001b[0m 3ms/step\n",
            "Fold 6: Accuracy = 0.5902\n"
          ]
        },
        {
          "output_type": "stream",
          "name": "stderr",
          "text": [
            "/usr/local/lib/python3.12/dist-packages/keras/src/layers/core/dense.py:93: UserWarning: Do not pass an `input_shape`/`input_dim` argument to a layer. When using Sequential models, prefer using an `Input(shape)` object as the first layer in the model instead.\n",
            "  super().__init__(activity_regularizer=activity_regularizer, **kwargs)\n"
          ]
        },
        {
          "output_type": "stream",
          "name": "stdout",
          "text": [
            "\u001b[1m39/39\u001b[0m \u001b[32m━━━━━━━━━━━━━━━━━━━━\u001b[0m\u001b[37m\u001b[0m \u001b[1m0s\u001b[0m 3ms/step\n",
            "Fold 7: Accuracy = 0.5012\n"
          ]
        },
        {
          "output_type": "stream",
          "name": "stderr",
          "text": [
            "/usr/local/lib/python3.12/dist-packages/keras/src/layers/core/dense.py:93: UserWarning: Do not pass an `input_shape`/`input_dim` argument to a layer. When using Sequential models, prefer using an `Input(shape)` object as the first layer in the model instead.\n",
            "  super().__init__(activity_regularizer=activity_regularizer, **kwargs)\n"
          ]
        },
        {
          "output_type": "stream",
          "name": "stdout",
          "text": [
            "\u001b[1m39/39\u001b[0m \u001b[32m━━━━━━━━━━━━━━━━━━━━\u001b[0m\u001b[37m\u001b[0m \u001b[1m0s\u001b[0m 3ms/step\n",
            "Fold 8: Accuracy = 0.4286\n"
          ]
        },
        {
          "output_type": "stream",
          "name": "stderr",
          "text": [
            "/usr/local/lib/python3.12/dist-packages/keras/src/layers/core/dense.py:93: UserWarning: Do not pass an `input_shape`/`input_dim` argument to a layer. When using Sequential models, prefer using an `Input(shape)` object as the first layer in the model instead.\n",
            "  super().__init__(activity_regularizer=activity_regularizer, **kwargs)\n"
          ]
        },
        {
          "output_type": "stream",
          "name": "stdout",
          "text": [
            "\u001b[1m39/39\u001b[0m \u001b[32m━━━━━━━━━━━━━━━━━━━━\u001b[0m\u001b[37m\u001b[0m \u001b[1m0s\u001b[0m 3ms/step\n",
            "Fold 9: Accuracy = 0.8229\n"
          ]
        },
        {
          "output_type": "stream",
          "name": "stderr",
          "text": [
            "/usr/local/lib/python3.12/dist-packages/keras/src/layers/core/dense.py:93: UserWarning: Do not pass an `input_shape`/`input_dim` argument to a layer. When using Sequential models, prefer using an `Input(shape)` object as the first layer in the model instead.\n",
            "  super().__init__(activity_regularizer=activity_regularizer, **kwargs)\n"
          ]
        },
        {
          "output_type": "stream",
          "name": "stdout",
          "text": [
            "\u001b[1m39/39\u001b[0m \u001b[32m━━━━━━━━━━━━━━━━━━━━\u001b[0m\u001b[37m\u001b[0m \u001b[1m0s\u001b[0m 3ms/step\n",
            "Fold 10: Accuracy = 0.5891\n",
            "Average accuracy for repeat 1: 0.5130\n",
            "\n",
            "=== Repeat 2 ===\n"
          ]
        },
        {
          "output_type": "stream",
          "name": "stderr",
          "text": [
            "/usr/local/lib/python3.12/dist-packages/keras/src/layers/core/dense.py:93: UserWarning: Do not pass an `input_shape`/`input_dim` argument to a layer. When using Sequential models, prefer using an `Input(shape)` object as the first layer in the model instead.\n",
            "  super().__init__(activity_regularizer=activity_regularizer, **kwargs)\n"
          ]
        },
        {
          "output_type": "stream",
          "name": "stdout",
          "text": [
            "\u001b[1m39/39\u001b[0m \u001b[32m━━━━━━━━━━━━━━━━━━━━\u001b[0m\u001b[37m\u001b[0m \u001b[1m0s\u001b[0m 3ms/step\n",
            "Fold 1: Accuracy = 0.5918\n"
          ]
        },
        {
          "output_type": "stream",
          "name": "stderr",
          "text": [
            "/usr/local/lib/python3.12/dist-packages/keras/src/layers/core/dense.py:93: UserWarning: Do not pass an `input_shape`/`input_dim` argument to a layer. When using Sequential models, prefer using an `Input(shape)` object as the first layer in the model instead.\n",
            "  super().__init__(activity_regularizer=activity_regularizer, **kwargs)\n"
          ]
        },
        {
          "output_type": "stream",
          "name": "stdout",
          "text": [
            "\u001b[1m39/39\u001b[0m \u001b[32m━━━━━━━━━━━━━━━━━━━━\u001b[0m\u001b[37m\u001b[0m \u001b[1m0s\u001b[0m 3ms/step\n",
            "Fold 2: Accuracy = 0.4792\n"
          ]
        },
        {
          "output_type": "stream",
          "name": "stderr",
          "text": [
            "/usr/local/lib/python3.12/dist-packages/keras/src/layers/core/dense.py:93: UserWarning: Do not pass an `input_shape`/`input_dim` argument to a layer. When using Sequential models, prefer using an `Input(shape)` object as the first layer in the model instead.\n",
            "  super().__init__(activity_regularizer=activity_regularizer, **kwargs)\n"
          ]
        },
        {
          "output_type": "stream",
          "name": "stdout",
          "text": [
            "\u001b[1m39/39\u001b[0m \u001b[32m━━━━━━━━━━━━━━━━━━━━\u001b[0m\u001b[37m\u001b[0m \u001b[1m0s\u001b[0m 3ms/step\n",
            "Fold 3: Accuracy = 0.6065\n"
          ]
        },
        {
          "output_type": "stream",
          "name": "stderr",
          "text": [
            "/usr/local/lib/python3.12/dist-packages/keras/src/layers/core/dense.py:93: UserWarning: Do not pass an `input_shape`/`input_dim` argument to a layer. When using Sequential models, prefer using an `Input(shape)` object as the first layer in the model instead.\n",
            "  super().__init__(activity_regularizer=activity_regularizer, **kwargs)\n"
          ]
        },
        {
          "output_type": "stream",
          "name": "stdout",
          "text": [
            "\u001b[1m39/39\u001b[0m \u001b[32m━━━━━━━━━━━━━━━━━━━━\u001b[0m\u001b[37m\u001b[0m \u001b[1m0s\u001b[0m 5ms/step\n",
            "Fold 4: Accuracy = 0.5453\n"
          ]
        },
        {
          "output_type": "stream",
          "name": "stderr",
          "text": [
            "/usr/local/lib/python3.12/dist-packages/keras/src/layers/core/dense.py:93: UserWarning: Do not pass an `input_shape`/`input_dim` argument to a layer. When using Sequential models, prefer using an `Input(shape)` object as the first layer in the model instead.\n",
            "  super().__init__(activity_regularizer=activity_regularizer, **kwargs)\n"
          ]
        },
        {
          "output_type": "stream",
          "name": "stdout",
          "text": [
            "\u001b[1m39/39\u001b[0m \u001b[32m━━━━━━━━━━━━━━━━━━━━\u001b[0m\u001b[37m\u001b[0m \u001b[1m0s\u001b[0m 3ms/step\n",
            "Fold 5: Accuracy = 0.5624\n"
          ]
        },
        {
          "output_type": "stream",
          "name": "stderr",
          "text": [
            "/usr/local/lib/python3.12/dist-packages/keras/src/layers/core/dense.py:93: UserWarning: Do not pass an `input_shape`/`input_dim` argument to a layer. When using Sequential models, prefer using an `Input(shape)` object as the first layer in the model instead.\n",
            "  super().__init__(activity_regularizer=activity_regularizer, **kwargs)\n"
          ]
        },
        {
          "output_type": "stream",
          "name": "stdout",
          "text": [
            "\u001b[1m39/39\u001b[0m \u001b[32m━━━━━━━━━━━━━━━━━━━━\u001b[0m\u001b[37m\u001b[0m \u001b[1m0s\u001b[0m 3ms/step\n",
            "Fold 6: Accuracy = 0.2482\n"
          ]
        },
        {
          "output_type": "stream",
          "name": "stderr",
          "text": [
            "/usr/local/lib/python3.12/dist-packages/keras/src/layers/core/dense.py:93: UserWarning: Do not pass an `input_shape`/`input_dim` argument to a layer. When using Sequential models, prefer using an `Input(shape)` object as the first layer in the model instead.\n",
            "  super().__init__(activity_regularizer=activity_regularizer, **kwargs)\n"
          ]
        },
        {
          "output_type": "stream",
          "name": "stdout",
          "text": [
            "\u001b[1m39/39\u001b[0m \u001b[32m━━━━━━━━━━━━━━━━━━━━\u001b[0m\u001b[37m\u001b[0m \u001b[1m0s\u001b[0m 3ms/step\n",
            "Fold 7: Accuracy = 0.4808\n"
          ]
        },
        {
          "output_type": "stream",
          "name": "stderr",
          "text": [
            "/usr/local/lib/python3.12/dist-packages/keras/src/layers/core/dense.py:93: UserWarning: Do not pass an `input_shape`/`input_dim` argument to a layer. When using Sequential models, prefer using an `Input(shape)` object as the first layer in the model instead.\n",
            "  super().__init__(activity_regularizer=activity_regularizer, **kwargs)\n"
          ]
        },
        {
          "output_type": "stream",
          "name": "stdout",
          "text": [
            "\u001b[1m39/39\u001b[0m \u001b[32m━━━━━━━━━━━━━━━━━━━━\u001b[0m\u001b[37m\u001b[0m \u001b[1m0s\u001b[0m 3ms/step\n",
            "Fold 8: Accuracy = 0.2522\n"
          ]
        },
        {
          "output_type": "stream",
          "name": "stderr",
          "text": [
            "/usr/local/lib/python3.12/dist-packages/keras/src/layers/core/dense.py:93: UserWarning: Do not pass an `input_shape`/`input_dim` argument to a layer. When using Sequential models, prefer using an `Input(shape)` object as the first layer in the model instead.\n",
            "  super().__init__(activity_regularizer=activity_regularizer, **kwargs)\n"
          ]
        },
        {
          "output_type": "stream",
          "name": "stdout",
          "text": [
            "\u001b[1m39/39\u001b[0m \u001b[32m━━━━━━━━━━━━━━━━━━━━\u001b[0m\u001b[37m\u001b[0m \u001b[1m0s\u001b[0m 3ms/step\n",
            "Fold 9: Accuracy = 0.6000\n"
          ]
        },
        {
          "output_type": "stream",
          "name": "stderr",
          "text": [
            "/usr/local/lib/python3.12/dist-packages/keras/src/layers/core/dense.py:93: UserWarning: Do not pass an `input_shape`/`input_dim` argument to a layer. When using Sequential models, prefer using an `Input(shape)` object as the first layer in the model instead.\n",
            "  super().__init__(activity_regularizer=activity_regularizer, **kwargs)\n"
          ]
        },
        {
          "output_type": "stream",
          "name": "stdout",
          "text": [
            "\u001b[1m39/39\u001b[0m \u001b[32m━━━━━━━━━━━━━━━━━━━━\u001b[0m\u001b[37m\u001b[0m \u001b[1m0s\u001b[0m 3ms/step\n",
            "Fold 10: Accuracy = 0.5384\n",
            "Average accuracy for repeat 2: 0.4905\n",
            "\n",
            "=== Repeat 3 ===\n"
          ]
        },
        {
          "output_type": "stream",
          "name": "stderr",
          "text": [
            "/usr/local/lib/python3.12/dist-packages/keras/src/layers/core/dense.py:93: UserWarning: Do not pass an `input_shape`/`input_dim` argument to a layer. When using Sequential models, prefer using an `Input(shape)` object as the first layer in the model instead.\n",
            "  super().__init__(activity_regularizer=activity_regularizer, **kwargs)\n"
          ]
        },
        {
          "output_type": "stream",
          "name": "stdout",
          "text": [
            "\u001b[1m39/39\u001b[0m \u001b[32m━━━━━━━━━━━━━━━━━━━━\u001b[0m\u001b[37m\u001b[0m \u001b[1m0s\u001b[0m 3ms/step\n",
            "Fold 1: Accuracy = 0.5518\n"
          ]
        },
        {
          "output_type": "stream",
          "name": "stderr",
          "text": [
            "/usr/local/lib/python3.12/dist-packages/keras/src/layers/core/dense.py:93: UserWarning: Do not pass an `input_shape`/`input_dim` argument to a layer. When using Sequential models, prefer using an `Input(shape)` object as the first layer in the model instead.\n",
            "  super().__init__(activity_regularizer=activity_regularizer, **kwargs)\n"
          ]
        },
        {
          "output_type": "stream",
          "name": "stdout",
          "text": [
            "\u001b[1m39/39\u001b[0m \u001b[32m━━━━━━━━━━━━━━━━━━━━\u001b[0m\u001b[37m\u001b[0m \u001b[1m0s\u001b[0m 3ms/step\n",
            "Fold 2: Accuracy = 0.7029\n"
          ]
        },
        {
          "output_type": "stream",
          "name": "stderr",
          "text": [
            "/usr/local/lib/python3.12/dist-packages/keras/src/layers/core/dense.py:93: UserWarning: Do not pass an `input_shape`/`input_dim` argument to a layer. When using Sequential models, prefer using an `Input(shape)` object as the first layer in the model instead.\n",
            "  super().__init__(activity_regularizer=activity_regularizer, **kwargs)\n"
          ]
        },
        {
          "output_type": "stream",
          "name": "stdout",
          "text": [
            "\u001b[1m39/39\u001b[0m \u001b[32m━━━━━━━━━━━━━━━━━━━━\u001b[0m\u001b[37m\u001b[0m \u001b[1m0s\u001b[0m 3ms/step\n",
            "Fold 3: Accuracy = 0.2580\n"
          ]
        },
        {
          "output_type": "stream",
          "name": "stderr",
          "text": [
            "/usr/local/lib/python3.12/dist-packages/keras/src/layers/core/dense.py:93: UserWarning: Do not pass an `input_shape`/`input_dim` argument to a layer. When using Sequential models, prefer using an `Input(shape)` object as the first layer in the model instead.\n",
            "  super().__init__(activity_regularizer=activity_regularizer, **kwargs)\n"
          ]
        },
        {
          "output_type": "stream",
          "name": "stdout",
          "text": [
            "\u001b[1m39/39\u001b[0m \u001b[32m━━━━━━━━━━━━━━━━━━━━\u001b[0m\u001b[37m\u001b[0m \u001b[1m0s\u001b[0m 3ms/step\n",
            "Fold 4: Accuracy = 0.4661\n"
          ]
        },
        {
          "output_type": "stream",
          "name": "stderr",
          "text": [
            "/usr/local/lib/python3.12/dist-packages/keras/src/layers/core/dense.py:93: UserWarning: Do not pass an `input_shape`/`input_dim` argument to a layer. When using Sequential models, prefer using an `Input(shape)` object as the first layer in the model instead.\n",
            "  super().__init__(activity_regularizer=activity_regularizer, **kwargs)\n"
          ]
        },
        {
          "output_type": "stream",
          "name": "stdout",
          "text": [
            "\u001b[1m39/39\u001b[0m \u001b[32m━━━━━━━━━━━━━━━━━━━━\u001b[0m\u001b[37m\u001b[0m \u001b[1m0s\u001b[0m 3ms/step\n",
            "Fold 5: Accuracy = 0.4702\n"
          ]
        },
        {
          "output_type": "stream",
          "name": "stderr",
          "text": [
            "/usr/local/lib/python3.12/dist-packages/keras/src/layers/core/dense.py:93: UserWarning: Do not pass an `input_shape`/`input_dim` argument to a layer. When using Sequential models, prefer using an `Input(shape)` object as the first layer in the model instead.\n",
            "  super().__init__(activity_regularizer=activity_regularizer, **kwargs)\n"
          ]
        },
        {
          "output_type": "stream",
          "name": "stdout",
          "text": [
            "\u001b[1m39/39\u001b[0m \u001b[32m━━━━━━━━━━━━━━━━━━━━\u001b[0m\u001b[37m\u001b[0m \u001b[1m0s\u001b[0m 3ms/step\n",
            "Fold 6: Accuracy = 0.5771\n"
          ]
        },
        {
          "output_type": "stream",
          "name": "stderr",
          "text": [
            "/usr/local/lib/python3.12/dist-packages/keras/src/layers/core/dense.py:93: UserWarning: Do not pass an `input_shape`/`input_dim` argument to a layer. When using Sequential models, prefer using an `Input(shape)` object as the first layer in the model instead.\n",
            "  super().__init__(activity_regularizer=activity_regularizer, **kwargs)\n"
          ]
        },
        {
          "output_type": "stream",
          "name": "stdout",
          "text": [
            "\u001b[1m39/39\u001b[0m \u001b[32m━━━━━━━━━━━━━━━━━━━━\u001b[0m\u001b[37m\u001b[0m \u001b[1m0s\u001b[0m 3ms/step\n",
            "Fold 7: Accuracy = 0.5543\n"
          ]
        },
        {
          "output_type": "stream",
          "name": "stderr",
          "text": [
            "/usr/local/lib/python3.12/dist-packages/keras/src/layers/core/dense.py:93: UserWarning: Do not pass an `input_shape`/`input_dim` argument to a layer. When using Sequential models, prefer using an `Input(shape)` object as the first layer in the model instead.\n",
            "  super().__init__(activity_regularizer=activity_regularizer, **kwargs)\n"
          ]
        },
        {
          "output_type": "stream",
          "name": "stdout",
          "text": [
            "\u001b[1m39/39\u001b[0m \u001b[32m━━━━━━━━━━━━━━━━━━━━\u001b[0m\u001b[37m\u001b[0m \u001b[1m0s\u001b[0m 3ms/step\n",
            "Fold 8: Accuracy = 0.4392\n"
          ]
        },
        {
          "output_type": "stream",
          "name": "stderr",
          "text": [
            "/usr/local/lib/python3.12/dist-packages/keras/src/layers/core/dense.py:93: UserWarning: Do not pass an `input_shape`/`input_dim` argument to a layer. When using Sequential models, prefer using an `Input(shape)` object as the first layer in the model instead.\n",
            "  super().__init__(activity_regularizer=activity_regularizer, **kwargs)\n"
          ]
        },
        {
          "output_type": "stream",
          "name": "stdout",
          "text": [
            "\u001b[1m39/39\u001b[0m \u001b[32m━━━━━━━━━━━━━━━━━━━━\u001b[0m\u001b[37m\u001b[0m \u001b[1m0s\u001b[0m 3ms/step\n",
            "Fold 9: Accuracy = 0.4408\n"
          ]
        },
        {
          "output_type": "stream",
          "name": "stderr",
          "text": [
            "/usr/local/lib/python3.12/dist-packages/keras/src/layers/core/dense.py:93: UserWarning: Do not pass an `input_shape`/`input_dim` argument to a layer. When using Sequential models, prefer using an `Input(shape)` object as the first layer in the model instead.\n",
            "  super().__init__(activity_regularizer=activity_regularizer, **kwargs)\n"
          ]
        },
        {
          "output_type": "stream",
          "name": "stdout",
          "text": [
            "\u001b[1m39/39\u001b[0m \u001b[32m━━━━━━━━━━━━━━━━━━━━\u001b[0m\u001b[37m\u001b[0m \u001b[1m0s\u001b[0m 3ms/step\n",
            "Fold 10: Accuracy = 0.2663\n",
            "Average accuracy for repeat 3: 0.4727\n",
            "\n",
            "Overall average accuracy across repeats: 0.4921\n"
          ]
        }
      ],
      "source": [
        "n_splits = 10\n",
        "n_repeats = 3  # you may choose 1-5 as instructed\n",
        "all_fold_accuracies = []\n",
        "\n",
        "for repeat in range(n_repeats):\n",
        "    print(f\"\\n=== Repeat {repeat+1} ===\")\n",
        "    fold_accuracies = []\n",
        "    kf = KFold(n_splits=n_splits, shuffle=True, random_state=repeat)\n",
        "\n",
        "    for fold, (train_index, test_index) in enumerate(kf.split(X_train_norm)):\n",
        "        X_tr, X_val = X_train_norm[train_index], X_train_norm[test_index]\n",
        "        y_tr, y_val = y_train[train_index], y_train[test_index]\n",
        "\n",
        "        model = build_model(X_tr.shape[1], y_tr.shape[1])\n",
        "        model.fit(X_tr, y_tr, epochs=100, batch_size=32, verbose=0)\n",
        "\n",
        "        y_pred = model.predict(X_val)\n",
        "        y_pred_labels = np.argmax(y_pred, axis=1)\n",
        "        y_true_labels = np.argmax(y_val, axis=1)\n",
        "\n",
        "        acc = accuracy_score(y_true_labels, y_pred_labels)\n",
        "        fold_accuracies.append(acc)\n",
        "        print(f\"Fold {fold+1}: Accuracy = {acc:.4f}\")\n",
        "\n",
        "    mean_acc = np.mean(fold_accuracies)\n",
        "    print(f\"Average accuracy for repeat {repeat+1}: {mean_acc:.4f}\")\n",
        "    all_fold_accuracies.append(mean_acc)\n",
        "\n",
        "overall_mean_acc = np.mean(all_fold_accuracies)\n",
        "print(f\"\\nOverall average accuracy across repeats: {overall_mean_acc:.4f}\")"
      ]
    },
    {
      "cell_type": "markdown",
      "id": "cef874c5",
      "metadata": {
        "id": "cef874c5"
      },
      "source": [
        "## Exercise 3 : Hyperparameter Tuning (25 points)\n",
        "\n",
        "Use either grid search or random search methodology to find the optimal number of nodes required in each hidden layer, as well as the optimal learning rate and the different activation functions or optimization approaches, [keras_tuner examples](https://keras.io/guides/keras_tuner/getting_started/) such that the accuracy of the model is maximum for the given data set.\n",
        "\n",
        "__Requirements :__\n",
        "- The set of optimal hyperparameters\n",
        "- Try your best to maximize accuracy using this set of optimal hyperparameters\n",
        "\n",
        "__Note :__ Hyperparameter tuning takes a lot of time to execute. Make sure that you choose the appropriate number of each hyperparameter (preferably 3 of each), and that you allocate enough time to execute your code. Make sure to tune at least three parameters with three options each at a minimum, but feel free to experiment with more, just recognize that it will grow exponentially in running time"
      ]
    },
    {
      "cell_type": "code",
      "source": [
        "!pip install keras-tuner -q"
      ],
      "metadata": {
        "colab": {
          "base_uri": "https://localhost:8080/"
        },
        "id": "oWXE1U0L3D19",
        "outputId": "67bb73a2-1183-48f3-cf9d-a4d0e7f25b9f"
      },
      "id": "oWXE1U0L3D19",
      "execution_count": 30,
      "outputs": [
        {
          "output_type": "stream",
          "name": "stdout",
          "text": [
            "\u001b[?25l   \u001b[90m━━━━━━━━━━━━━━━━━━━━━━━━━━━━━━━━━━━━━━━━\u001b[0m \u001b[32m0.0/129.1 kB\u001b[0m \u001b[31m?\u001b[0m eta \u001b[36m-:--:--\u001b[0m\r\u001b[2K   \u001b[91m━━━━━━━━━━━━━━━━━━━━━━━━━━━━━━━━━━━━━━\u001b[0m\u001b[90m╺\u001b[0m\u001b[90m━\u001b[0m \u001b[32m122.9/129.1 kB\u001b[0m \u001b[31m4.6 MB/s\u001b[0m eta \u001b[36m0:00:01\u001b[0m\r\u001b[2K   \u001b[90m━━━━━━━━━━━━━━━━━━━━━━━━━━━━━━━━━━━━━━━━\u001b[0m \u001b[32m129.1/129.1 kB\u001b[0m \u001b[31m3.0 MB/s\u001b[0m eta \u001b[36m0:00:00\u001b[0m\n",
            "\u001b[?25h"
          ]
        }
      ]
    },
    {
      "cell_type": "code",
      "execution_count": 31,
      "id": "5572c87d",
      "metadata": {
        "id": "5572c87d"
      },
      "outputs": [],
      "source": [
        "import keras_tuner as kt\n",
        "from tensorflow.keras.optimizers import SGD, Adam, RMSprop\n",
        "\n",
        "def build_model(hp):\n",
        "    model = tf.keras.Sequential()\n",
        "    model.add(tf.keras.layers.Dense(\n",
        "        hp.Choice('units', [8, 12, 16]),\n",
        "        activation=hp.Choice('activation', ['sigmoid', 'relu', 'tanh']),\n",
        "        input_shape=(X_train_norm.shape[1],)))\n",
        "    for _ in range(2):  # Three hidden layers in total\n",
        "        model.add(tf.keras.layers.Dense(\n",
        "            hp.Choice('units', [8, 12, 16]),\n",
        "            activation=hp.Choice('activation', ['sigmoid', 'relu', 'tanh'])\n",
        "        ))\n",
        "    model.add(tf.keras.layers.Dense(y_train.shape[1], activation='softmax'))\n",
        "    opt_choice = hp.Choice('optimizer', ['SGD', 'Adam', 'RMSprop'])\n",
        "    lr_choice = hp.Choice('learning_rate', [0.01, 0.1, 0.3])\n",
        "    optimizer = {'SGD': SGD(lr_choice), 'Adam': Adam(lr_choice), 'RMSprop': RMSprop(lr_choice)}[opt_choice]\n",
        "    model.compile(optimizer=optimizer, loss='categorical_crossentropy', metrics=['accuracy'])\n",
        "    return model"
      ]
    },
    {
      "cell_type": "code",
      "execution_count": 32,
      "id": "nP-CX0pD0C1m",
      "metadata": {
        "id": "nP-CX0pD0C1m",
        "colab": {
          "base_uri": "https://localhost:8080/"
        },
        "outputId": "88ba0a66-32f6-4c0c-b05a-f3b7a3be2210"
      },
      "outputs": [
        {
          "output_type": "stream",
          "name": "stderr",
          "text": [
            "/usr/local/lib/python3.12/dist-packages/keras/src/layers/core/dense.py:93: UserWarning: Do not pass an `input_shape`/`input_dim` argument to a layer. When using Sequential models, prefer using an `Input(shape)` object as the first layer in the model instead.\n",
            "  super().__init__(activity_regularizer=activity_regularizer, **kwargs)\n"
          ]
        }
      ],
      "source": [
        "tuner = kt.RandomSearch(\n",
        "    build_model,\n",
        "    objective='val_accuracy',\n",
        "    max_trials=18,  # 3x3x2 is a manageable grid, adjust if needed\n",
        "    executions_per_trial=1,\n",
        "    directory='drybean_tuning',\n",
        "    project_name='bean_hpsearch'\n",
        ")\n"
      ]
    },
    {
      "cell_type": "code",
      "execution_count": 33,
      "id": "wWvG2WLD0GFB",
      "metadata": {
        "id": "wWvG2WLD0GFB"
      },
      "outputs": [],
      "source": [
        "tuner.search(\n",
        "    X_train_norm, y_train,\n",
        "    epochs=50,\n",
        "    validation_split=0.1,\n",
        "    verbose=0\n",
        ")"
      ]
    },
    {
      "cell_type": "code",
      "execution_count": 34,
      "id": "HrW2-MI50I5p",
      "metadata": {
        "id": "HrW2-MI50I5p",
        "colab": {
          "base_uri": "https://localhost:8080/"
        },
        "outputId": "4ae74247-6de1-4b05-f008-8f83b23bff9b"
      },
      "outputs": [
        {
          "output_type": "stream",
          "name": "stdout",
          "text": [
            "Optimal Hyperparameters:\n",
            "Units per hidden layer: 8\n",
            "Activation function: relu\n",
            "Optimizer: RMSprop\n",
            "Learning rate: 0.01\n"
          ]
        }
      ],
      "source": [
        "best_hp = tuner.get_best_hyperparameters(num_trials=1)[0]\n",
        "print(\"Optimal Hyperparameters:\")\n",
        "print(f\"Units per hidden layer: {best_hp.get('units')}\")\n",
        "print(f\"Activation function: {best_hp.get('activation')}\")\n",
        "print(f\"Optimizer: {best_hp.get('optimizer')}\")\n",
        "print(f\"Learning rate: {best_hp.get('learning_rate')}\")"
      ]
    },
    {
      "cell_type": "code",
      "execution_count": 35,
      "id": "K8sLt9-j0K76",
      "metadata": {
        "id": "K8sLt9-j0K76",
        "colab": {
          "base_uri": "https://localhost:8080/"
        },
        "outputId": "cfbd44b4-fa06-4c79-838b-87e49d34d6ab"
      },
      "outputs": [
        {
          "output_type": "stream",
          "name": "stdout",
          "text": [
            "Test set accuracy with optimal hyperparameters: 0.8957\n"
          ]
        }
      ],
      "source": [
        "best_model = tuner.hypermodel.build(best_hp)\n",
        "history = best_model.fit(X_train_norm, y_train, epochs=100, validation_data=(X_test_norm, y_test), verbose=0)\n",
        "test_acc = best_model.evaluate(X_test_norm, y_test, verbose=0)[1]\n",
        "print(f\"Test set accuracy with optimal hyperparameters: {test_acc:.4f}\")"
      ]
    },
    {
      "cell_type": "markdown",
      "id": "nPfZ4mzk09EI",
      "metadata": {
        "id": "nPfZ4mzk09EI"
      },
      "source": [
        "## Exercise 4 - Collaborative Statement (5 points)\n",
        "\n",
        "It is mandatory to include a Statement of Collaboration in each submission, that follows the guidelines below.\n",
        "Include the names of everyone involved in the discussions (especially in-person ones), and what was discussed.\n",
        "All students are required to follow the academic honesty guidelines posted on the course website. For\n",
        "programming assignments in particular, I encourage students to organize (perhaps using Piazza) to discuss the\n",
        "task descriptions, requirements, possible bugs in the support code, and the relevant technical content before they\n",
        "start working on it. However, you should not discuss the specific solutions, and as a guiding principle, you are\n",
        "not allowed to take anything written or drawn away from these discussions (no photographs of the blackboard,\n",
        "written notes, referring to Piazza, etc.). Especially after you have started working on the assignment, try to restrict\n",
        "the discussion to Piazza as much as possible, so that there is no doubt as to the extent of your collaboration.\n",
        "\n",
        "Even if you did not use any outside resources or collaborate with anyone, please state that explicitly in the space below."
      ]
    },
    {
      "cell_type": "code",
      "execution_count": null,
      "id": "5Cawhjqe09Q6",
      "metadata": {
        "id": "5Cawhjqe09Q6"
      },
      "outputs": [],
      "source": [
        "z"
      ]
    }
  ],
  "metadata": {
    "colab": {
      "provenance": []
    },
    "kernelspec": {
      "display_name": "Python 3",
      "language": "python",
      "name": "python3"
    },
    "language_info": {
      "codemirror_mode": {
        "name": "ipython",
        "version": 3
      },
      "file_extension": ".py",
      "mimetype": "text/x-python",
      "name": "python",
      "nbconvert_exporter": "python",
      "pygments_lexer": "ipython3",
      "version": "3.8.10"
    }
  },
  "nbformat": 4,
  "nbformat_minor": 5
}